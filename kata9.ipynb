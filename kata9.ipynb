{
 "cells": [
  {
   "cell_type": "markdown",
   "metadata": {},
   "source": [
    "# Kata 9\n",
    "## Ejercicio 1: Trabajar con argumentos en funciones\n",
    "Comienza por crear una función que necesite tres lecturas de combustible y devuelva un informe:\n",
    "\n"
   ]
  },
  {
   "cell_type": "code",
   "execution_count": 9,
   "metadata": {},
   "outputs": [],
   "source": [
    "def fuel(fuel1, fuel2, fuel3):\n",
    "    average = (fuel1 + fuel2 + fuel3)/3\n",
    "    return f'Tanque 1: {fuel1}, tanque 2: {fuel2}, Tanque 3: {fuel3}, con un promedio de {average}.'"
   ]
  },
  {
   "cell_type": "markdown",
   "metadata": {},
   "source": [
    "Ahora que hemos definido la función de informes, vamos a comprobarlo. Para esta misión, los tanques no están llenos:\n",
    "\n"
   ]
  },
  {
   "cell_type": "code",
   "execution_count": 10,
   "metadata": {},
   "outputs": [
    {
     "data": {
      "text/plain": [
       "'Tanque 1: 20, tanque 2: 30, Tanque 3: 40, con un promedio de 30.0.'"
      ]
     },
     "execution_count": 10,
     "metadata": {},
     "output_type": "execute_result"
    }
   ],
   "source": [
    "fuel(20, 30, 40)"
   ]
  },
  {
   "cell_type": "markdown",
   "metadata": {},
   "source": [
    "En lugar de simplemente crear el informe, la función también está calculando el promedio. Mejora la legibilidad extrayendo el cálculo promedio de la función en una nueva función para que el promedio se pueda hacer de forma independiente:"
   ]
  },
  {
   "cell_type": "code",
   "execution_count": 14,
   "metadata": {},
   "outputs": [],
   "source": [
    "def promedio(*values):\n",
    "    total = sum(values)\n",
    "    total_values = len(values)\n",
    "    average = total/total_values\n",
    "    return average"
   ]
  },
  {
   "cell_type": "markdown",
   "metadata": {},
   "source": [
    "Ahora actualiza la función de informes para llamando a la nueva función del promedio:\n",
    "\n"
   ]
  },
  {
   "cell_type": "code",
   "execution_count": 15,
   "metadata": {},
   "outputs": [],
   "source": [
    "def fuel(fuel1, fuel2, fuel3):\n",
    "    average = promedio(fuel1, fuel2, fuel3)\n",
    "    return f'Tanque 1: {fuel1}, tanque 2: {fuel2}, Tanque 3: {fuel3}, con un promedio de {average}.'"
   ]
  },
  {
   "cell_type": "code",
   "execution_count": 16,
   "metadata": {},
   "outputs": [
    {
     "data": {
      "text/plain": [
       "'Tanque 1: 20, tanque 2: 30, Tanque 3: 40, con un promedio de 30.0.'"
      ]
     },
     "execution_count": 16,
     "metadata": {},
     "output_type": "execute_result"
    }
   ],
   "source": [
    "fuel(20,30,40)"
   ]
  },
  {
   "cell_type": "markdown",
   "metadata": {},
   "source": [
    "## Ejercicio 2: Trabajo con argumentos de palabra clave\n",
    "En este ejercicio, construirás un informe de cohete que requiere varias piezas de información, como el tiempo hasta el destino, el combustible a la izquierda y el nombre del destino. Comienza por crear una función que creará un informe preciso de la misión:\n",
    "\n"
   ]
  },
  {
   "cell_type": "code",
   "execution_count": 7,
   "metadata": {},
   "outputs": [],
   "source": [
    "def informe(prelanzamiento, tiempo_vuelo, destino, tanque_externo, tanque_interno):\n",
    "    return f\"Tiempo de vuelo: {tiempo_vuelo+prelanzamiento} minutos. Destino: {destino}. Combustible: {tanque_externo+tanque_interno} litros.\""
   ]
  },
  {
   "cell_type": "code",
   "execution_count": 8,
   "metadata": {},
   "outputs": [
    {
     "data": {
      "text/plain": [
       "'Tiempo de vuelo: 23 minutos. Destino: Tierra. Combustible: 30 litros.'"
      ]
     },
     "execution_count": 8,
     "metadata": {},
     "output_type": "execute_result"
    }
   ],
   "source": [
    "informe(8, 15, \"Tierra\", 10, 20)"
   ]
  },
  {
   "cell_type": "markdown",
   "metadata": {},
   "source": [
    "La función es problemática porque no se puede adaptar para minutos adicionales o tanques adicionales de combustible. Hazlo más flexible permitiendo cualquier número de pasos basados en el tiempo y cualquier número de tanques. En lugar de usar *args y **kwargs, aprovecha el hecho de que puedes usar cualquier nombre que desees. Asegurate que la función sea más legible mediante el uso de nombres de variables que están asociados con las entradas, como *minutes y **fuel_reservoirs:\n",
    "\n"
   ]
  },
  {
   "cell_type": "code",
   "execution_count": 13,
   "metadata": {},
   "outputs": [],
   "source": [
    "def informe(destino, *minutos, **combustible):\n",
    "    return f\"Tiempo de vuelo: {sum(minutos)} minutos. Destino: {destino}. Combustible: {sum(combustible.values())} litros.\""
   ]
  },
  {
   "cell_type": "code",
   "execution_count": 14,
   "metadata": {},
   "outputs": [
    {
     "data": {
      "text/plain": [
       "'Tiempo de vuelo: 90 minutos. Destino: Tierra. Combustible: 4806 litros.'"
      ]
     },
     "execution_count": 14,
     "metadata": {},
     "output_type": "execute_result"
    }
   ],
   "source": [
    "informe(\"Tierra\", 20, 30, 40, interno = 243, externo = 1321, reserva = 3242)"
   ]
  },
  {
   "cell_type": "markdown",
   "metadata": {},
   "source": [
    "Debido a que el combustible que queda en los tanques es específico de cada tanque, actualiza la función para usar el nombre de cada tanque en el informe:\n"
   ]
  },
  {
   "cell_type": "code",
   "execution_count": 23,
   "metadata": {},
   "outputs": [],
   "source": [
    "def informe(destino, *minutos, **combustible):\n",
    "    reporte = f\"Tiempo de vuelo: {sum(minutos)} minutos. Destino: {destino}. Combustible: {sum(combustible.values())} litros.\"\n",
    "    for tank, litros in combustible.items():\n",
    "        reporte += f\" Tanque {tank}: {litros} litros.\"\n",
    "    return reporte"
   ]
  },
  {
   "cell_type": "code",
   "execution_count": 24,
   "metadata": {},
   "outputs": [
    {
     "data": {
      "text/plain": [
       "'Tiempo de vuelo: 90 minutos. Destino: Tierra. Combustible: 4806 litros. Tanque interno: 243 litros. Tanque externo: 1321 litros. Tanque reserva: 3242 litros.'"
      ]
     },
     "execution_count": 24,
     "metadata": {},
     "output_type": "execute_result"
    }
   ],
   "source": [
    "informe(\"Tierra\", 20, 30, 40, interno = 243, externo = 1321, reserva = 3242)"
   ]
  }
 ],
 "metadata": {
  "interpreter": {
   "hash": "ba2dd4040b1be9b555482f569ac6fb2cb3c0989bee8f1417fa0d989ddcdb7405"
  },
  "kernelspec": {
   "display_name": "Python 3.10.2 64-bit",
   "language": "python",
   "name": "python3"
  },
  "language_info": {
   "codemirror_mode": {
    "name": "ipython",
    "version": 3
   },
   "file_extension": ".py",
   "mimetype": "text/x-python",
   "name": "python",
   "nbconvert_exporter": "python",
   "pygments_lexer": "ipython3",
   "version": "3.10.2"
  },
  "orig_nbformat": 4
 },
 "nbformat": 4,
 "nbformat_minor": 2
}
